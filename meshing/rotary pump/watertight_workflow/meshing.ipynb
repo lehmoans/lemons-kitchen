{
 "cells": [
  {
   "cell_type": "code",
   "execution_count": null,
   "metadata": {},
   "outputs": [],
   "source": [
    "from pathlib import Path\n",
    "import ansys.fluent.core as pyfluent\n",
    "\n",
    "\n",
    "import os\n",
    "import psutil"
   ]
  },
  {
   "cell_type": "code",
   "execution_count": 2,
   "metadata": {},
   "outputs": [
    {
     "ename": "ModuleNotFoundError",
     "evalue": "No module named 'ansys.fluent.core.datamodel'",
     "output_type": "error",
     "traceback": [
      "\u001b[1;31m---------------------------------------------------------------------------\u001b[0m",
      "\u001b[1;31mModuleNotFoundError\u001b[0m                       Traceback (most recent call last)",
      "Cell \u001b[1;32mIn[2], line 1\u001b[0m\n\u001b[1;32m----> 1\u001b[0m \u001b[38;5;28;01mimport\u001b[39;00m \u001b[38;5;21;01mansys\u001b[39;00m\u001b[38;5;21;01m.\u001b[39;00m\u001b[38;5;21;01mfluent\u001b[39;00m\u001b[38;5;21;01m.\u001b[39;00m\u001b[38;5;21;01mcore\u001b[39;00m\u001b[38;5;21;01m.\u001b[39;00m\u001b[38;5;21;01mdatamodel\u001b[39;00m\u001b[38;5;21;01m.\u001b[39;00m\u001b[38;5;21;01mmeshing\u001b[39;00m \u001b[38;5;28;01mas\u001b[39;00m \u001b[38;5;21;01mmeshing\u001b[39;00m\n",
      "\u001b[1;31mModuleNotFoundError\u001b[0m: No module named 'ansys.fluent.core.datamodel'"
     ]
    }
   ],
   "source": [
    "import ansys.fluent.core.datamodel.meshing as meshing"
   ]
  },
  {
   "cell_type": "code",
   "execution_count": null,
   "metadata": {},
   "outputs": [],
   "source": [
    "session = pyfluent.launch_fluent(mode=\"meshing\",processor_count=2, precision=\"double\")\n"
   ]
  },
  {
   "cell_type": "code",
   "execution_count": 4,
   "metadata": {},
   "outputs": [
    {
     "data": {
      "text/plain": [
       "True"
      ]
     },
     "execution_count": 4,
     "metadata": {},
     "output_type": "execute_result"
    }
   ],
   "source": [
    "workflow =  session.workflow\n",
    "workflow.InitializeWorkflow(WorkflowType=\"Watertight Geometry\")"
   ]
  },
  {
   "cell_type": "code",
   "execution_count": 5,
   "metadata": {},
   "outputs": [],
   "source": [
    "from inputs import *"
   ]
  },
  {
   "cell_type": "code",
   "execution_count": 6,
   "metadata": {},
   "outputs": [],
   "source": [
    "workflow.TaskObject['Import Geometry'].Arguments = {\n",
    "            'FileFormat': 'CAD', #[CAD, Mesh]\n",
    "            'ImportType': 'Single File', # ['Single File', 'Multiple Files']\n",
    "            'LengthUnit': 'mm', # ['mm', 'm', 'cm', 'in', 'ft', 'um', 'nm'] \n",
    "            'UseBodyLabels': 'No', # ['No', 'Yes']\n",
    "            'FileName': GEOM_FILE_PATH\n",
    "        }"
   ]
  },
  {
   "cell_type": "code",
   "execution_count": null,
   "metadata": {},
   "outputs": [],
   "source": [
    "print(FACESIZES)"
   ]
  },
  {
   "cell_type": "code",
   "execution_count": 7,
   "metadata": {},
   "outputs": [
    {
     "name": "stdout",
     "output_type": "stream",
     "text": [
      "\n",
      "Importing one geom object per program-controlled and one zone per body ...\n",
      "    D:\\\\ANSYS_V241\\\\ANSYS Inc\\\\v241\\\\commonfiles\\\\CPython\\\\3_10\\\\winx64\\\\Release\\\\python\\\\..\\\\Ansys\\\\TGrid\\\\CADReaders.py started by madan on DESKTOP-IR7JCSB winx64 on Fri Dec  6 19:57:39 2024\n",
      "    using Python 3.10.9 (remotes/origin/4e018266dafe29ec2836492d71d245fcfd366d07-dirty:4e018266, Jan  3 2) [MSC v.1920 64 bit (AMD64)]\n",
      "    \n",
      "    using Ansys.Meshing.FieldMesher build Nov 27 2023 11:54:13\n",
      "    \n",
      "    running ANSYS TGrid CADToTGridConverter ...\n",
      "    setting up parameters ...\n",
      "    setting up parameters done.\n",
      "    running conversion ...\n",
      "    converting 1 file(s) from Workbench to FLTG using output path 'd:\\\\CFD_tui\\\\lemons-kitchen\\\\meshing\\\\watertight_workflow\\\\FM_DESKTOP-IR7JCSB_53200/out173347544953200.tgf'\n",
      "    converting file 'enclosures.scdoc' (1 of 1) from Workbench to FLTG using output path 'd:\\\\CFD_tui\\\\lemons-kitchen\\\\meshing\\\\watertight_workflow\\\\FM_DESKTOP-IR7JCSB_53200'\n",
      "    importing data ...\n",
      "    importing meshing model from PartMgr from file 'D://CFD_tui/enclosures.scdoc' ...\n",
      "    setting enclosure and symmetry processing to False\n",
      "    setting transfer named selections to True\n",
      "    setting named selection prefixes to ''\n",
      "    setting mixed import resolution type to 'SolidAndSurface'\n",
      "    setting target application to 'FluentMeshing'\n",
      "    attaching to assembly ...\n",
      "    attaching to assembly done in 134.663 [s]\n",
      "    processing assembly 'D:\\\\CFD_tui\\\\enclosures.scdoc' with ID 1 and reference key '<?xml version=\"1.0\" encoding=\"utf-16\"?>\n",
      "    <IdTable xmlns:xsd=\"http://www.w3.org/2001/XMLSchema\" xmlns:xsi=\"http://www.w3.org/2001/XMLSchema-instance\">\n",
      "      <Table>\n",
      "        <Entry>\n",
      "          <Text>&lt;SnippetV1 sctype=\"SpaceClaim.OccurrenceMoniker`1[[SpaceClaim.IEvaluation, Core]], Core\"&gt;&lt;instanceMoniker sctype=\"SpaceClaim.BasicMoniker`1[[SpaceClaim.IInstance, Core]], Core\" refId=\"f8756fea-c035-4d7a-bb7d-b4b9f35d2738:1903\" /&gt;&lt;originalMoniker sctype=\"SpaceClaim.BasicMoniker`1[[SpaceClaim.IEvaluation, Core]], Core\" refId=\"f8756fea-c035-4d7a-bb7d-b4b9f35d2738:1899\" /&gt;&lt;/SnippetV1&gt;</Text>\n",
      "          <Id>10000</Id>\n",
      "          <IsExploded>false</IsExploded>\n",
      "        </Entry>\n",
      "        <Entry>\n",
      "          <Text>&lt;SnippetV1 sctype=\"SpaceClaim.OccurrenceMoniker`1[[SpaceClaim.IEvaluation, Core]], Core\"&gt;&lt;instanceMoniker sctype=\"SpaceClaim.BasicMoniker`1[[SpaceClaim.IInstance, Core]], Core\" refId=\"f8756fea-c035-4d7a-bb7d-b4b9f35d2738:4779\" /&gt;&lt;originalMoniker sctype=\"SpaceClaim.BasicMoniker`1[[SpaceClaim.IEvaluation, Core]], Core\" refId=\"f8756fea-c035-4d7a-bb7d-b4b9f35d2738:4775\" /&gt;&lt;/SnippetV1&gt;</Text>\n",
      "          <Id>10001</Id>\n",
      "          <IsExploded>false</IsExploded>\n",
      "        </Entry>\n",
      "      </Table>\n",
      "    </IdTable>'\n",
      "    length unit = [m]\n",
      "    processing part 'rot_vol' with ID 3\n",
      "    processing part 'stat_vol' with ID 5\n",
      "    processing named selection 'outlet'\n",
      "    processing named selection 'inlet'\n",
      "    processing named selection 'rot_group'\n",
      "    processing named selection 'rot_walls'\n",
      "    processing named selection 'stat_walls'\n",
      "    processing named selection 'blades'\n",
      "    processing data ...\n",
      "    removing named collections of entities ...\n",
      "    removing named collections of entities stopped, no named collections selected.\n",
      "    analyzing feature edges ...\n",
      "    detecting feature edges, feature angle = 40 [deg] ...\n",
      "        Data information\n",
      "            Meshing model\n",
      "                Attributes:\n",
      "                    'LengthUnit': '[mm]'\n",
      "                Entity summary:\n",
      "                    Collection: 6\n",
      "                    Component : 3\n",
      "                    Body      : 2\n",
      "                    Shell     : 3\n",
      "                    Face      : 167\n",
      "                    Loop      : 179\n",
      "                    Edge      : 348\n",
      "                    Vertex    : 195\n",
      "                    Surface   : 167\n",
      "                    Curve     : 348\n",
      "                Tessellation summary:\n",
      "                    Face facets  : 30182\n",
      "                    Edge segments: 5358\n",
      "                Bounding box:\n",
      "                    (-60.00000000000001, -17.5, -45) x (45, 12.5, 45)\n",
      "                Assembly component hierarchy:\n",
      "                    'D:\\\\CFD_tui\\\\enclosures.scdoc'\n",
      "                      'rot_vol'\n",
      "                      'stat_vol'\n",
      "                NamedCollections:\n",
      "                    'outlet'\n",
      "                    'inlet'\n",
      "                    'rot_group'\n",
      "                    'rot_walls'\n",
      "                    'stat_walls'\n",
      "                    'blades'\n",
      "    \n",
      "    \n",
      "    exporting FLTG data to file 'd:\\\\CFD_tui\\\\lemons-kitchen\\\\meshing\\\\watertight_workflow\\\\FM_DESKTOP-IR7JCSB_53200\\\\out173347544953200.tgf' ...\n",
      "    writing face-based mesh file 'd:\\\\CFD_tui\\\\lemons-kitchen\\\\meshing\\\\watertight_workflow\\\\FM_DESKTOP-IR7JCSB_53200\\\\out173347544953200.tgf' ...\n",
      "    ======== Exported Data ========\n",
      "    Entity summary:\n",
      "        Object       : 2\n",
      "        Object region: 8\n",
      "        Zone         : 14\n",
      "    \n",
      "    running conversion done.\n",
      "    running ANSYS TGrid CADToTGridConverter done.\n",
      "    ran ANSYS TGrid CADToTGridConverter in 138.812 [s]\n",
      "\n",
      "Reading \"d:\\CFD_tui\\lemons-kitchen\\meshing\\watertight_workflow\\FM_DESKTOP-IR7JCSB_53200/out173347544953200.tgf\"...\n",
      "Reading \"d:\\CFD_tui\\lemons-kitchen\\meshing\\watertight_workflow\\FM_DESKTOP-IR7JCSB_53200/out173347544953200.tgf\"...\n",
      "nodes: 15649\n",
      "edges: 566\n",
      "faces: 30154\n",
      "cells: 0\n",
      "reading 15649 storage data (id 1, type 41, double precision binary).\n",
      "generating pointers...done.\n",
      "extracting boundary entities...\n",
      " 15649 boundary nodes.\n",
      " 30154 boundary faces.\n",
      " 7 boundary face zones.\n",
      "done.\n",
      "analyzing boundary connectivity...done.\n",
      "\n",
      "---------------- Import of enclosures, consisting of 2 parts/objects, complete. \n",
      " \n",
      "\n",
      "\n",
      "Meshing> Writing \"d:\\CFD_tui\\lemons-kitchen\\meshing\\watertight_workflow\\FM_DESKTOP-IR7JCSB_53200\\TaskObject3.msh.h5\" ...\n",
      "writing 1 node zones\n",
      "writing 7 edge zones \n",
      "writing 7 face zones \n",
      "writing node curvature data...\n",
      "done.\n",
      "Error: set-mesh-var!: variable not set\n",
      "Error Object: #f\n",
      "Writing \"d:\\CFD_tui\\lemons-kitchen\\meshing\\watertight_workflow\\FM_DESKTOP-IR7JCSB_53200\\TaskObject3.msh.h5\" ...\n",
      "writing 1 node zones\n",
      "writing 7 edge zones \n",
      "writing 7 face zones \n",
      "writing node curvature data...\n",
      "done.\n",
      "Error: set-mesh-var!: variable not set\n",
      "Error Object: #f\n"
     ]
    },
    {
     "name": "stdout",
     "output_type": "stream",
     "text": [
      "local sizing added.\n",
      "Facesize: {'Name': 'facesize_blades', 'GrowthRate': 1.15, 'TargetMeshSize': -1, 'FaceLabelList': ['blades']}\n"
     ]
    }
   ],
   "source": [
    "add_local_sizing = workflow.TaskObject[\"Add Local Sizing\"]\n",
    "\n",
    "for facesize in FACESIZES:\n",
    "    add_local_sizing.Arguments = dict(\n",
    "        {\n",
    "            \"AddChild\": \"yes\",\n",
    "            \"SizeControlType\": \"FaceSize\",\n",
    "            \"Name\": facesize[\"Name\"],\n",
    "            \"GrowthRate\": facesize[\"GrowthRate\"],\n",
    "            \"TargetMeshSize\":facesize[\"TargetMeshSize\"], #mm\n",
    "            \"FaceLabelList\": facesize[\"FaceLabelList\"],\n",
    "        }\n",
    "        )\n",
    "    try:\n",
    "        add_local_sizing.Execute()\n",
    "        print(f\"local sizing added.\\nFacesize: {facesize}\")\n",
    "    except:\n",
    "        print(\"error\")\n"
   ]
  },
  {
   "cell_type": "code",
   "execution_count": 9,
   "metadata": {},
   "outputs": [
    {
     "ename": "RuntimeError",
     "evalue": "Unknown exception",
     "output_type": "error",
     "traceback": [
      "\u001b[1;31m---------------------------------------------------------------------------\u001b[0m",
      "\u001b[1;31mRuntimeError\u001b[0m                              Traceback (most recent call last)",
      "Cell \u001b[1;32mIn[9], line 13\u001b[0m\n\u001b[0;32m      1\u001b[0m generate_surface_mesh \u001b[38;5;241m=\u001b[39m workflow\u001b[38;5;241m.\u001b[39mTaskObject[\u001b[38;5;124m\"\u001b[39m\u001b[38;5;124mGenerate the Surface Mesh\u001b[39m\u001b[38;5;124m\"\u001b[39m]\n\u001b[0;32m      2\u001b[0m generate_surface_mesh\u001b[38;5;241m.\u001b[39mArguments \u001b[38;5;241m=\u001b[39m \u001b[38;5;28mdict\u001b[39m(\n\u001b[0;32m      3\u001b[0m     {\n\u001b[0;32m      4\u001b[0m         \u001b[38;5;124m\"\u001b[39m\u001b[38;5;124mCFDSurfaceMeshControls\u001b[39m\u001b[38;5;124m\"\u001b[39m: {\n\u001b[1;32m   (...)\u001b[0m\n\u001b[0;32m     11\u001b[0m     }\n\u001b[0;32m     12\u001b[0m )\n\u001b[1;32m---> 13\u001b[0m \u001b[43mgenerate_surface_mesh\u001b[49m\u001b[38;5;241;43m.\u001b[39;49m\u001b[43mExecute\u001b[49m\u001b[43m(\u001b[49m\u001b[43m)\u001b[49m\n\u001b[0;32m     15\u001b[0m generate_surface_mesh\u001b[38;5;241m.\u001b[39mInsertNextTask(CommandName\u001b[38;5;241m=\u001b[39m\u001b[38;5;124m\"\u001b[39m\u001b[38;5;124mImproveSurfaceMesh\u001b[39m\u001b[38;5;124m\"\u001b[39m)\n\u001b[0;32m     16\u001b[0m improve_surface_mesh \u001b[38;5;241m=\u001b[39m workflow\u001b[38;5;241m.\u001b[39mTaskObject[\u001b[38;5;124m\"\u001b[39m\u001b[38;5;124mImprove Surface Mesh\u001b[39m\u001b[38;5;124m\"\u001b[39m]\n",
      "File \u001b[1;32md:\\CFD_tui\\lemons-kitchen\\meshing\\watertight_workflow\\venv\\Lib\\site-packages\\ansys\\fluent\\core\\services\\datamodel_se.py:1734\u001b[0m, in \u001b[0;36mPyCommand.__call__\u001b[1;34m(self, *args, **kwds)\u001b[0m\n\u001b[0;32m   1732\u001b[0m     \u001b[38;5;28;01mif\u001b[39;00m \u001b[38;5;28mself\u001b[39m\u001b[38;5;241m.\u001b[39m_get_file_purpose(arg):\n\u001b[0;32m   1733\u001b[0m         kwds[arg] \u001b[38;5;241m=\u001b[39m \u001b[38;5;28mself\u001b[39m\u001b[38;5;241m.\u001b[39mbefore_execute(value)\n\u001b[1;32m-> 1734\u001b[0m command \u001b[38;5;241m=\u001b[39m \u001b[38;5;28;43mself\u001b[39;49m\u001b[38;5;241;43m.\u001b[39;49m\u001b[43mservice\u001b[49m\u001b[38;5;241;43m.\u001b[39;49m\u001b[43mexecute_command\u001b[49m\u001b[43m(\u001b[49m\n\u001b[0;32m   1735\u001b[0m \u001b[43m    \u001b[49m\u001b[38;5;28;43mself\u001b[39;49m\u001b[38;5;241;43m.\u001b[39;49m\u001b[43mrules\u001b[49m\u001b[43m,\u001b[49m\u001b[43m \u001b[49m\u001b[43mconvert_path_to_se_path\u001b[49m\u001b[43m(\u001b[49m\u001b[38;5;28;43mself\u001b[39;49m\u001b[38;5;241;43m.\u001b[39;49m\u001b[43mpath\u001b[49m\u001b[43m)\u001b[49m\u001b[43m,\u001b[49m\u001b[43m \u001b[49m\u001b[38;5;28;43mself\u001b[39;49m\u001b[38;5;241;43m.\u001b[39;49m\u001b[43mcommand\u001b[49m\u001b[43m,\u001b[49m\u001b[43m \u001b[49m\u001b[43mkwds\u001b[49m\n\u001b[0;32m   1736\u001b[0m \u001b[43m\u001b[49m\u001b[43m)\u001b[49m\n\u001b[0;32m   1737\u001b[0m \u001b[38;5;28;01mfor\u001b[39;00m arg, value \u001b[38;5;129;01min\u001b[39;00m kwds\u001b[38;5;241m.\u001b[39mitems():\n\u001b[0;32m   1738\u001b[0m     \u001b[38;5;28;01mif\u001b[39;00m \u001b[38;5;28mself\u001b[39m\u001b[38;5;241m.\u001b[39m_get_file_purpose(arg):\n",
      "File \u001b[1;32md:\\CFD_tui\\lemons-kitchen\\meshing\\watertight_workflow\\venv\\Lib\\site-packages\\ansys\\fluent\\core\\services\\datamodel_se.py:587\u001b[0m, in \u001b[0;36mDatamodelService.execute_command\u001b[1;34m(self, rules, path, command, args)\u001b[0m\n\u001b[0;32m    583\u001b[0m request \u001b[38;5;241m=\u001b[39m DataModelProtoModule\u001b[38;5;241m.\u001b[39mExecuteCommandRequest(\n\u001b[0;32m    584\u001b[0m     rules\u001b[38;5;241m=\u001b[39mrules, path\u001b[38;5;241m=\u001b[39mpath, command\u001b[38;5;241m=\u001b[39mcommand, wait\u001b[38;5;241m=\u001b[39m\u001b[38;5;28;01mTrue\u001b[39;00m\n\u001b[0;32m    585\u001b[0m )\n\u001b[0;32m    586\u001b[0m _convert_value_to_variant(args, request\u001b[38;5;241m.\u001b[39margs)\n\u001b[1;32m--> 587\u001b[0m response \u001b[38;5;241m=\u001b[39m \u001b[38;5;28;43mself\u001b[39;49m\u001b[38;5;241;43m.\u001b[39;49m\u001b[43m_impl\u001b[49m\u001b[38;5;241;43m.\u001b[39;49m\u001b[43mexecute_command\u001b[49m\u001b[43m(\u001b[49m\u001b[43mrequest\u001b[49m\u001b[43m)\u001b[49m\n\u001b[0;32m    588\u001b[0m \u001b[38;5;28;01mreturn\u001b[39;00m _convert_variant_to_value(response\u001b[38;5;241m.\u001b[39mresult)\n",
      "File \u001b[1;32md:\\CFD_tui\\lemons-kitchen\\meshing\\watertight_workflow\\venv\\Lib\\site-packages\\ansys\\fluent\\core\\services\\datamodel_se.py:241\u001b[0m, in \u001b[0;36mDatamodelServiceImpl.execute_command\u001b[1;34m(self, request)\u001b[0m\n\u001b[0;32m    239\u001b[0m \u001b[38;5;250m\u001b[39m\u001b[38;5;124;03m\"\"\"executeCommand RPC of DataModel service.\"\"\"\u001b[39;00m\n\u001b[0;32m    240\u001b[0m logger\u001b[38;5;241m.\u001b[39mdebug(\u001b[38;5;124mf\u001b[39m\u001b[38;5;124m\"\u001b[39m\u001b[38;5;124mCommand: \u001b[39m\u001b[38;5;132;01m{\u001b[39;00mrequest\u001b[38;5;241m.\u001b[39mcommand\u001b[38;5;132;01m}\u001b[39;00m\u001b[38;5;124m\"\u001b[39m)\n\u001b[1;32m--> 241\u001b[0m \u001b[38;5;28;01mreturn\u001b[39;00m \u001b[38;5;28;43mself\u001b[39;49m\u001b[38;5;241;43m.\u001b[39;49m\u001b[43m_stub\u001b[49m\u001b[38;5;241;43m.\u001b[39;49m\u001b[43mexecuteCommand\u001b[49m\u001b[43m(\u001b[49m\u001b[43mrequest\u001b[49m\u001b[43m,\u001b[49m\u001b[43m \u001b[49m\u001b[43mmetadata\u001b[49m\u001b[38;5;241;43m=\u001b[39;49m\u001b[38;5;28;43mself\u001b[39;49m\u001b[38;5;241;43m.\u001b[39;49m\u001b[43m_metadata\u001b[49m\u001b[43m)\u001b[49m\n",
      "File \u001b[1;32md:\\CFD_tui\\lemons-kitchen\\meshing\\watertight_workflow\\venv\\Lib\\site-packages\\grpc\\_interceptor.py:277\u001b[0m, in \u001b[0;36m_UnaryUnaryMultiCallable.__call__\u001b[1;34m(self, request, timeout, metadata, credentials, wait_for_ready, compression)\u001b[0m\n\u001b[0;32m    268\u001b[0m \u001b[38;5;28;01mdef\u001b[39;00m \u001b[38;5;21m__call__\u001b[39m(\n\u001b[0;32m    269\u001b[0m     \u001b[38;5;28mself\u001b[39m,\n\u001b[0;32m    270\u001b[0m     request: Any,\n\u001b[1;32m   (...)\u001b[0m\n\u001b[0;32m    275\u001b[0m     compression: Optional[grpc\u001b[38;5;241m.\u001b[39mCompression] \u001b[38;5;241m=\u001b[39m \u001b[38;5;28;01mNone\u001b[39;00m,\n\u001b[0;32m    276\u001b[0m ) \u001b[38;5;241m-\u001b[39m\u001b[38;5;241m>\u001b[39m Any:\n\u001b[1;32m--> 277\u001b[0m     response, ignored_call \u001b[38;5;241m=\u001b[39m \u001b[38;5;28;43mself\u001b[39;49m\u001b[38;5;241;43m.\u001b[39;49m\u001b[43m_with_call\u001b[49m\u001b[43m(\u001b[49m\n\u001b[0;32m    278\u001b[0m \u001b[43m        \u001b[49m\u001b[43mrequest\u001b[49m\u001b[43m,\u001b[49m\n\u001b[0;32m    279\u001b[0m \u001b[43m        \u001b[49m\u001b[43mtimeout\u001b[49m\u001b[38;5;241;43m=\u001b[39;49m\u001b[43mtimeout\u001b[49m\u001b[43m,\u001b[49m\n\u001b[0;32m    280\u001b[0m \u001b[43m        \u001b[49m\u001b[43mmetadata\u001b[49m\u001b[38;5;241;43m=\u001b[39;49m\u001b[43mmetadata\u001b[49m\u001b[43m,\u001b[49m\n\u001b[0;32m    281\u001b[0m \u001b[43m        \u001b[49m\u001b[43mcredentials\u001b[49m\u001b[38;5;241;43m=\u001b[39;49m\u001b[43mcredentials\u001b[49m\u001b[43m,\u001b[49m\n\u001b[0;32m    282\u001b[0m \u001b[43m        \u001b[49m\u001b[43mwait_for_ready\u001b[49m\u001b[38;5;241;43m=\u001b[39;49m\u001b[43mwait_for_ready\u001b[49m\u001b[43m,\u001b[49m\n\u001b[0;32m    283\u001b[0m \u001b[43m        \u001b[49m\u001b[43mcompression\u001b[49m\u001b[38;5;241;43m=\u001b[39;49m\u001b[43mcompression\u001b[49m\u001b[43m,\u001b[49m\n\u001b[0;32m    284\u001b[0m \u001b[43m    \u001b[49m\u001b[43m)\u001b[49m\n\u001b[0;32m    285\u001b[0m     \u001b[38;5;28;01mreturn\u001b[39;00m response\n",
      "File \u001b[1;32md:\\CFD_tui\\lemons-kitchen\\meshing\\watertight_workflow\\venv\\Lib\\site-packages\\grpc\\_interceptor.py:329\u001b[0m, in \u001b[0;36m_UnaryUnaryMultiCallable._with_call\u001b[1;34m(self, request, timeout, metadata, credentials, wait_for_ready, compression)\u001b[0m\n\u001b[0;32m    326\u001b[0m     \u001b[38;5;28;01mexcept\u001b[39;00m \u001b[38;5;167;01mException\u001b[39;00m \u001b[38;5;28;01mas\u001b[39;00m exception:  \u001b[38;5;66;03m# pylint:disable=broad-except\u001b[39;00m\n\u001b[0;32m    327\u001b[0m         \u001b[38;5;28;01mreturn\u001b[39;00m _FailureOutcome(exception, sys\u001b[38;5;241m.\u001b[39mexc_info()[\u001b[38;5;241m2\u001b[39m])\n\u001b[1;32m--> 329\u001b[0m call \u001b[38;5;241m=\u001b[39m \u001b[38;5;28;43mself\u001b[39;49m\u001b[38;5;241;43m.\u001b[39;49m\u001b[43m_interceptor\u001b[49m\u001b[38;5;241;43m.\u001b[39;49m\u001b[43mintercept_unary_unary\u001b[49m\u001b[43m(\u001b[49m\n\u001b[0;32m    330\u001b[0m \u001b[43m    \u001b[49m\u001b[43mcontinuation\u001b[49m\u001b[43m,\u001b[49m\u001b[43m \u001b[49m\u001b[43mclient_call_details\u001b[49m\u001b[43m,\u001b[49m\u001b[43m \u001b[49m\u001b[43mrequest\u001b[49m\n\u001b[0;32m    331\u001b[0m \u001b[43m\u001b[49m\u001b[43m)\u001b[49m\n\u001b[0;32m    332\u001b[0m \u001b[38;5;28;01mreturn\u001b[39;00m call\u001b[38;5;241m.\u001b[39mresult(), call\n",
      "File \u001b[1;32md:\\CFD_tui\\lemons-kitchen\\meshing\\watertight_workflow\\venv\\Lib\\site-packages\\ansys\\fluent\\core\\services\\interceptors.py:122\u001b[0m, in \u001b[0;36mGrpcErrorInterceptor.intercept_unary_unary\u001b[1;34m(self, continuation, client_call_details, request)\u001b[0m\n\u001b[0;32m    115\u001b[0m \u001b[38;5;28;01mdef\u001b[39;00m \u001b[38;5;21mintercept_unary_unary\u001b[39m(\n\u001b[0;32m    116\u001b[0m     \u001b[38;5;28mself\u001b[39m,\n\u001b[0;32m    117\u001b[0m     continuation: Any,\n\u001b[0;32m    118\u001b[0m     client_call_details: grpc\u001b[38;5;241m.\u001b[39mClientCallDetails,\n\u001b[0;32m    119\u001b[0m     request: Any,\n\u001b[0;32m    120\u001b[0m ) \u001b[38;5;241m-\u001b[39m\u001b[38;5;241m>\u001b[39m Any:\n\u001b[0;32m    121\u001b[0m \u001b[38;5;250m    \u001b[39m\u001b[38;5;124;03m\"\"\"Intercept unary-unary call for error state checking.\"\"\"\u001b[39;00m\n\u001b[1;32m--> 122\u001b[0m     \u001b[38;5;28;01mreturn\u001b[39;00m \u001b[38;5;28;43mself\u001b[39;49m\u001b[38;5;241;43m.\u001b[39;49m\u001b[43m_intercept_call\u001b[49m\u001b[43m(\u001b[49m\u001b[43mcontinuation\u001b[49m\u001b[43m,\u001b[49m\u001b[43m \u001b[49m\u001b[43mclient_call_details\u001b[49m\u001b[43m,\u001b[49m\u001b[43m \u001b[49m\u001b[43mrequest\u001b[49m\u001b[43m)\u001b[49m\n",
      "File \u001b[1;32md:\\CFD_tui\\lemons-kitchen\\meshing\\watertight_workflow\\venv\\Lib\\site-packages\\ansys\\fluent\\core\\services\\interceptors.py:112\u001b[0m, in \u001b[0;36mGrpcErrorInterceptor._intercept_call\u001b[1;34m(self, continuation, client_call_details, request)\u001b[0m\n\u001b[0;32m    110\u001b[0m     ex \u001b[38;5;241m=\u001b[39m \u001b[38;5;167;01mRuntimeError\u001b[39;00m(grpc_ex\u001b[38;5;241m.\u001b[39mdetails())\n\u001b[0;32m    111\u001b[0m     ex\u001b[38;5;241m.\u001b[39m__context__ \u001b[38;5;241m=\u001b[39m grpc_ex\n\u001b[1;32m--> 112\u001b[0m     \u001b[38;5;28;01mraise\u001b[39;00m ex \u001b[38;5;28;01mfrom\u001b[39;00m \u001b[38;5;28;01mNone\u001b[39;00m\n\u001b[0;32m    113\u001b[0m \u001b[38;5;28;01mreturn\u001b[39;00m response\n",
      "\u001b[1;31mRuntimeError\u001b[0m: Unknown exception"
     ]
    }
   ],
   "source": [
    "generate_surface_mesh = workflow.TaskObject[\"Generate the Surface Mesh\"]\n",
    "generate_surface_mesh.Arguments = dict(\n",
    "    {\n",
    "        \"CFDSurfaceMeshControls\": {\n",
    "            \"CurvatureNormalAngle\": SURFACE_MESH_PARAMS[\"CurvatureNormalAngle\"], \n",
    "            \"GrowthRate\": SURFACE_MESH_PARAMS[\"GrowthRate\"],\n",
    "            \"MaxSize\": SURFACE_MESH_PARAMS[\"MaxSize\"],\n",
    "            \"MinSize\": SURFACE_MESH_PARAMS[ \"MinSize\"],\n",
    "            \"SizeFunctions\": SURFACE_MESH_PARAMS[\"SizeFunctions\"],\n",
    "        }\n",
    "    }\n",
    ")\n",
    "generate_surface_mesh.Execute()\n",
    "\n",
    "generate_surface_mesh.InsertNextTask(CommandName=\"ImproveSurfaceMesh\")\n",
    "improve_surface_mesh = workflow.TaskObject[\"Improve Surface Mesh\"]\n",
    "improve_surface_mesh.Arguments.update_dict({\"FaceQualityLimit\": MESH_FACE_QUALITY_LIMIT})\n",
    "improve_surface_mesh.Execute()\n"
   ]
  },
  {
   "cell_type": "code",
   "execution_count": null,
   "metadata": {},
   "outputs": [],
   "source": [
    "describeTask=workflow.TaskObject[\"Describe Geometry\"]\n",
    "describeTask.Arguments = dict(\n",
    "    CappingRequired=\"No\",\n",
    "    SetupType=\"The geometry consists of only fluid regions with no voids\",\n",
    "    applyShareTopology=\"Yes\"\n",
    ")\n",
    "describeTask.Execute()"
   ]
  },
  {
   "cell_type": "code",
   "execution_count": null,
   "metadata": {},
   "outputs": [],
   "source": [
    "describeTask=workflow.TaskObject[\"Describe Geometry\"]\n",
    "print(describeTask.TaskList)"
   ]
  },
  {
   "cell_type": "code",
   "execution_count": null,
   "metadata": {},
   "outputs": [],
   "source": [
    "workflow.TaskObject[\"Create Regions\"].Execute()\n"
   ]
  },
  {
   "cell_type": "code",
   "execution_count": null,
   "metadata": {},
   "outputs": [],
   "source": [
    "updateBoundaries = workflow.TaskObject[\"Update Boundaries\"]\n"
   ]
  },
  {
   "cell_type": "code",
   "execution_count": null,
   "metadata": {},
   "outputs": [],
   "source": []
  },
  {
   "cell_type": "code",
   "execution_count": null,
   "metadata": {},
   "outputs": [],
   "source": [
    "updateRegions = workflow.TaskObject[\"Update Regions\"]"
   ]
  }
 ],
 "metadata": {
  "kernelspec": {
   "display_name": "venv",
   "language": "python",
   "name": "python3"
  },
  "language_info": {
   "codemirror_mode": {
    "name": "ipython",
    "version": 3
   },
   "file_extension": ".py",
   "mimetype": "text/x-python",
   "name": "python",
   "nbconvert_exporter": "python",
   "pygments_lexer": "ipython3",
   "version": "3.11.9"
  }
 },
 "nbformat": 4,
 "nbformat_minor": 2
}
