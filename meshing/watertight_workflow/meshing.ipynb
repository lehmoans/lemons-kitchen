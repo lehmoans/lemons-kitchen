{
 "cells": [
  {
   "cell_type": "code",
   "execution_count": null,
   "metadata": {},
   "outputs": [],
   "source": [
    "from pathlib import Path\n",
    "import ansys.fluent.core as pyfluent\n",
    "import os\n",
    "import psutil"
   ]
  },
  {
   "cell_type": "code",
   "execution_count": null,
   "metadata": {},
   "outputs": [],
   "source": [
    "session = pyfluent.launch_fluent(mode=\"meshing\",processor_count=2, precision=\"double\")\n"
   ]
  },
  {
   "cell_type": "code",
   "execution_count": null,
   "metadata": {},
   "outputs": [],
   "source": [
    "workflow =  session.workflow\n",
    "workflow.InitializeWorkflow(WorkflowType=\"Watertight Geometry\")"
   ]
  },
  {
   "cell_type": "code",
   "execution_count": null,
   "metadata": {},
   "outputs": [],
   "source": [
    "from inputs import *"
   ]
  },
  {
   "cell_type": "code",
   "execution_count": null,
   "metadata": {},
   "outputs": [],
   "source": [
    "workflow.TaskObject['Import Geometry'].Arguments = {\n",
    "            'FileFormat': 'CAD', #[CAD, Mesh]\n",
    "            'ImportType': 'Single File', # ['Single File', 'Multiple Files']\n",
    "            'LengthUnit': 'mm', # ['mm', 'm', 'cm', 'in', 'ft', 'um', 'nm'] \n",
    "            'UseBodyLabels': 'No', # ['No', 'Yes']\n",
    "            'FileName': GEOM_FILE_PATH\n",
    "        }"
   ]
  },
  {
   "cell_type": "code",
   "execution_count": null,
   "metadata": {},
   "outputs": [],
   "source": [
    "print(FACESIZES)"
   ]
  },
  {
   "cell_type": "code",
   "execution_count": null,
   "metadata": {},
   "outputs": [],
   "source": [
    "add_local_sizing = workflow.TaskObject[\"Add Local Sizing\"]\n",
    "\n",
    "for facesize in FACESIZES:\n",
    "    add_local_sizing.Arguments = dict(\n",
    "        {\n",
    "            \"AddChild\": \"yes\",\n",
    "            \"SizeControlType\": \"FaceSize\",\n",
    "            \"Name\": facesize[\"Name\"],\n",
    "            \"GrowthRate\": facesize[\"GrowthRate\"],\n",
    "            \"TargetMeshSize\":facesize[\"TargetMeshSize\"], #mm\n",
    "            \"FaceLabelList\": facesize[\"FaceLabelList\"],\n",
    "        }\n",
    "        )\n",
    "    try:\n",
    "        add_local_sizing.Execute()\n",
    "        print(f\"local sizing added.\\nFacesize: {facesize}\")\n",
    "    except:\n",
    "        print(\"error\")\n"
   ]
  },
  {
   "cell_type": "code",
   "execution_count": null,
   "metadata": {},
   "outputs": [],
   "source": [
    "generate_surface_mesh = workflow.TaskObject[\"Generate the Surface Mesh\"]\n",
    "generate_surface_mesh.Arguments = dict(\n",
    "    {\n",
    "        \"CFDSurfaceMeshControls\": {\n",
    "            \"CurvatureNormalAngle\": SURFACE_MESH_PARAMS[\"CurvatureNormalAngle\"], \n",
    "            \"GrowthRate\": SURFACE_MESH_PARAMS[\"GrowthRate\"],\n",
    "            \"MaxSize\": SURFACE_MESH_PARAMS[\"MaxSize\"],\n",
    "            \"MinSize\": SURFACE_MESH_PARAMS[ \"MinSize\"],\n",
    "            \"SizeFunctions\": SURFACE_MESH_PARAMS[\"SizeFunctions\"],\n",
    "        }\n",
    "    }\n",
    ")\n",
    "generate_surface_mesh.Execute()\n",
    "\n",
    "generate_surface_mesh.InsertNextTask(CommandName=\"ImproveSurfaceMesh\")\n",
    "improve_surface_mesh = workflow.TaskObject[\"Improve Surface Mesh\"]\n",
    "improve_surface_mesh.Arguments.update_dict({\"FaceQualityLimit\": MESH_FACE_QUALITY_LIMIT})\n",
    "improve_surface_mesh.Execute()\n"
   ]
  },
  {
   "cell_type": "code",
   "execution_count": null,
   "metadata": {},
   "outputs": [],
   "source": [
    "describeTask=workflow.TaskObject[\"Describe Geometry\"]\n",
    "describeTask.Arguments = dict(\n",
    "    CappingRequired=\"No\",\n",
    "    SetupType=\"The geometry consists of only fluid regions with no voids\",\n",
    "    ShareTopology=\"Yes\"\n",
    ")\n",
    "describeTask.Execute()"
   ]
  },
  {
   "cell_type": "code",
   "execution_count": null,
   "metadata": {},
   "outputs": [],
   "source": [
    "describeTask=workflow.TaskObject[\"Describe Geometry\"]\n",
    "print(describeTask.TaskList)"
   ]
  },
  {
   "cell_type": "code",
   "execution_count": null,
   "metadata": {},
   "outputs": [],
   "source": [
    "workflow.TaskObject[\"Create Regions\"].Execute()\n"
   ]
  },
  {
   "cell_type": "code",
   "execution_count": null,
   "metadata": {},
   "outputs": [],
   "source": [
    "updateBoundaries = workflow.TaskObject[\"Update Boundaries\"]\n"
   ]
  },
  {
   "cell_type": "code",
   "execution_count": null,
   "metadata": {},
   "outputs": [],
   "source": []
  },
  {
   "cell_type": "code",
   "execution_count": null,
   "metadata": {},
   "outputs": [],
   "source": [
    "updateRegions = workflow.TaskObject[\"Update Regions\"]"
   ]
  }
 ],
 "metadata": {
  "kernelspec": {
   "display_name": "venv",
   "language": "python",
   "name": "python3"
  },
  "language_info": {
   "codemirror_mode": {
    "name": "ipython",
    "version": 3
   },
   "file_extension": ".py",
   "mimetype": "text/x-python",
   "name": "python",
   "nbconvert_exporter": "python",
   "pygments_lexer": "ipython3",
   "version": "3.11.9"
  }
 },
 "nbformat": 4,
 "nbformat_minor": 2
}
